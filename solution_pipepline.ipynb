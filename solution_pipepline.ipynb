{
 "cells": [
  {
   "cell_type": "code",
   "execution_count": 1,
   "metadata": {},
   "outputs": [],
   "source": [
    "import pandas as pd \n",
    "import numpy as np\n",
    "from matplotlib import pyplot as plt\n",
    "import seaborn as sns\n",
    "import warnings\n",
    "warnings.filterwarnings('ignore')\n",
    "%matplotlib inline"
   ]
  },
  {
   "cell_type": "code",
   "execution_count": 2,
   "metadata": {},
   "outputs": [],
   "source": [
    "df_train = pd.read_csv('../data/raw/train.csv.zip')\n",
    "df_test = pd.read_csv('../data/raw/test.csv.zip')"
   ]
  },
  {
   "cell_type": "code",
   "execution_count": 3,
   "metadata": {},
   "outputs": [],
   "source": [
    "df_all = pd.concat([df_train, df_test])"
   ]
  },
  {
   "cell_type": "code",
   "execution_count": 4,
   "metadata": {},
   "outputs": [
    {
     "data": {
      "text/html": [
       "<div>\n",
       "<style scoped>\n",
       "    .dataframe tbody tr th:only-of-type {\n",
       "        vertical-align: middle;\n",
       "    }\n",
       "\n",
       "    .dataframe tbody tr th {\n",
       "        vertical-align: top;\n",
       "    }\n",
       "\n",
       "    .dataframe thead th {\n",
       "        text-align: right;\n",
       "    }\n",
       "</style>\n",
       "<table border=\"1\" class=\"dataframe\">\n",
       "  <thead>\n",
       "    <tr style=\"text-align: right;\">\n",
       "      <th></th>\n",
       "      <th>ID</th>\n",
       "      <th>aesthetic_sub_line</th>\n",
       "      <th>color</th>\n",
       "      <th>en_US_description</th>\n",
       "      <th>fr_FR_price</th>\n",
       "      <th>function</th>\n",
       "      <th>macro_function</th>\n",
       "      <th>macro_material</th>\n",
       "      <th>model</th>\n",
       "      <th>month</th>\n",
       "      <th>product_gender</th>\n",
       "      <th>product_type</th>\n",
       "      <th>sku_hash</th>\n",
       "      <th>sub_function</th>\n",
       "      <th>target</th>\n",
       "    </tr>\n",
       "  </thead>\n",
       "  <tbody>\n",
       "    <tr>\n",
       "      <th>0</th>\n",
       "      <td>3d8a4ae769b526187c36901f204691a663333fa4_1</td>\n",
       "      <td>DAMIER AZUR</td>\n",
       "      <td>AZUR</td>\n",
       "      <td>Fashioned from summery Damier Azur canvas, thi...</td>\n",
       "      <td>370.0</td>\n",
       "      <td>SMALL LEATHER GOODS</td>\n",
       "      <td>LG ACCESSORIES</td>\n",
       "      <td>CANVAS</td>\n",
       "      <td>PF.VICTORINE</td>\n",
       "      <td>1</td>\n",
       "      <td>Women</td>\n",
       "      <td>Leather Goods</td>\n",
       "      <td>3d8a4ae769b526187c36901f204691a663333fa4</td>\n",
       "      <td>COMPACT WALLETS</td>\n",
       "      <td>1366.0</td>\n",
       "    </tr>\n",
       "    <tr>\n",
       "      <th>1</th>\n",
       "      <td>c05a54f7067be054ec4b27d0d6081353ef7d9df6_1</td>\n",
       "      <td>SANS LIGNE ESTHETIQUE</td>\n",
       "      <td>NaN</td>\n",
       "      <td>This collectible piece features our iconic Pet...</td>\n",
       "      <td>295.0</td>\n",
       "      <td>BAG CHARMS</td>\n",
       "      <td>FANCY ACCESSORIES</td>\n",
       "      <td>CANVAS</td>\n",
       "      <td>BAG CHARM PETITE MALLE</td>\n",
       "      <td>1</td>\n",
       "      <td>Women</td>\n",
       "      <td>Accessories</td>\n",
       "      <td>c05a54f7067be054ec4b27d0d6081353ef7d9df6</td>\n",
       "      <td>BAG CHARMS</td>\n",
       "      <td>526.0</td>\n",
       "    </tr>\n",
       "    <tr>\n",
       "      <th>2</th>\n",
       "      <td>7cb4d3626bd48a9b523d8693266219c34aeccde8_1</td>\n",
       "      <td>MAHINA</td>\n",
       "      <td>GALET</td>\n",
       "      <td>The perfect summer companion, this effortlessl...</td>\n",
       "      <td>2660.0</td>\n",
       "      <td>DAILY BAGS</td>\n",
       "      <td>CITY BAGS</td>\n",
       "      <td>LEATHER</td>\n",
       "      <td>GIROLATA</td>\n",
       "      <td>1</td>\n",
       "      <td>Women</td>\n",
       "      <td>Leather Goods</td>\n",
       "      <td>7cb4d3626bd48a9b523d8693266219c34aeccde8</td>\n",
       "      <td>SHOULDER BAGS</td>\n",
       "      <td>503.0</td>\n",
       "    </tr>\n",
       "    <tr>\n",
       "      <th>3</th>\n",
       "      <td>8e5967f90ff9fb93aa2840fceecc537b2e8e6ff3_1</td>\n",
       "      <td>MAHINA</td>\n",
       "      <td>MAGNOLIA</td>\n",
       "      <td>The perfect summer companion, this effortlessl...</td>\n",
       "      <td>2660.0</td>\n",
       "      <td>DAILY BAGS</td>\n",
       "      <td>CITY BAGS</td>\n",
       "      <td>LEATHER</td>\n",
       "      <td>GIROLATA</td>\n",
       "      <td>1</td>\n",
       "      <td>Women</td>\n",
       "      <td>Leather Goods</td>\n",
       "      <td>8e5967f90ff9fb93aa2840fceecc537b2e8e6ff3</td>\n",
       "      <td>SHOULDER BAGS</td>\n",
       "      <td>276.0</td>\n",
       "    </tr>\n",
       "    <tr>\n",
       "      <th>4</th>\n",
       "      <td>6913a128945e0efeafc52101dcdeaa610eaa4430_1</td>\n",
       "      <td>SANS LIGNE ESTHETIQUE</td>\n",
       "      <td>NaN</td>\n",
       "      <td>This distinctive charm necklace reinterprets d...</td>\n",
       "      <td>325.0</td>\n",
       "      <td>NECKLACES</td>\n",
       "      <td>FASHION JEWELRY</td>\n",
       "      <td>NON PRECIOUS METAL</td>\n",
       "      <td>COLL.CHARMS FOR GENTLEMEN</td>\n",
       "      <td>1</td>\n",
       "      <td>Men</td>\n",
       "      <td>Accessories</td>\n",
       "      <td>6913a128945e0efeafc52101dcdeaa610eaa4430</td>\n",
       "      <td>NECKLACES</td>\n",
       "      <td>206.0</td>\n",
       "    </tr>\n",
       "  </tbody>\n",
       "</table>\n",
       "</div>"
      ],
      "text/plain": [
       "                                           ID     aesthetic_sub_line  \\\n",
       "0  3d8a4ae769b526187c36901f204691a663333fa4_1            DAMIER AZUR   \n",
       "1  c05a54f7067be054ec4b27d0d6081353ef7d9df6_1  SANS LIGNE ESTHETIQUE   \n",
       "2  7cb4d3626bd48a9b523d8693266219c34aeccde8_1                 MAHINA   \n",
       "3  8e5967f90ff9fb93aa2840fceecc537b2e8e6ff3_1                 MAHINA   \n",
       "4  6913a128945e0efeafc52101dcdeaa610eaa4430_1  SANS LIGNE ESTHETIQUE   \n",
       "\n",
       "      color                                  en_US_description  fr_FR_price  \\\n",
       "0      AZUR  Fashioned from summery Damier Azur canvas, thi...        370.0   \n",
       "1       NaN  This collectible piece features our iconic Pet...        295.0   \n",
       "2     GALET  The perfect summer companion, this effortlessl...       2660.0   \n",
       "3  MAGNOLIA  The perfect summer companion, this effortlessl...       2660.0   \n",
       "4       NaN  This distinctive charm necklace reinterprets d...        325.0   \n",
       "\n",
       "              function     macro_function      macro_material  \\\n",
       "0  SMALL LEATHER GOODS     LG ACCESSORIES              CANVAS   \n",
       "1           BAG CHARMS  FANCY ACCESSORIES              CANVAS   \n",
       "2           DAILY BAGS          CITY BAGS             LEATHER   \n",
       "3           DAILY BAGS          CITY BAGS             LEATHER   \n",
       "4            NECKLACES    FASHION JEWELRY  NON PRECIOUS METAL   \n",
       "\n",
       "                       model  month product_gender   product_type  \\\n",
       "0               PF.VICTORINE      1          Women  Leather Goods   \n",
       "1     BAG CHARM PETITE MALLE      1          Women    Accessories   \n",
       "2                   GIROLATA      1          Women  Leather Goods   \n",
       "3                   GIROLATA      1          Women  Leather Goods   \n",
       "4  COLL.CHARMS FOR GENTLEMEN      1            Men    Accessories   \n",
       "\n",
       "                                   sku_hash     sub_function  target  \n",
       "0  3d8a4ae769b526187c36901f204691a663333fa4  COMPACT WALLETS  1366.0  \n",
       "1  c05a54f7067be054ec4b27d0d6081353ef7d9df6       BAG CHARMS   526.0  \n",
       "2  7cb4d3626bd48a9b523d8693266219c34aeccde8    SHOULDER BAGS   503.0  \n",
       "3  8e5967f90ff9fb93aa2840fceecc537b2e8e6ff3    SHOULDER BAGS   276.0  \n",
       "4  6913a128945e0efeafc52101dcdeaa610eaa4430        NECKLACES   206.0  "
      ]
     },
     "execution_count": 4,
     "metadata": {},
     "output_type": "execute_result"
    }
   ],
   "source": [
    "df_all.head()"
   ]
  },
  {
   "cell_type": "code",
   "execution_count": 5,
   "metadata": {},
   "outputs": [],
   "source": [
    "df_image_vecs = pd.read_csv('../data/raw/vimages.csv.zip')\n",
    "df_navi = pd.read_csv('../data/raw/vimages.csv.zip')\n",
    "df_sales = pd.read_csv('../data/raw/sales.csv.zip')"
   ]
  },
  {
   "cell_type": "code",
   "execution_count": 6,
   "metadata": {},
   "outputs": [
    {
     "data": {
      "text/plain": [
       "Index(['Date', 'day_transaction_date', 'Month_transaction', 'type',\n",
       "       'zone_number', 'country_number', 'name', 'sku_hash', 'sales_quantity',\n",
       "       'currency_rate_USD', 'currency_rate_GBP', 'currency_rate_CNY',\n",
       "       'currency_rate_JPY', 'currency_rate_KRW',\n",
       "       'currency_rate_USD_1_day_before', 'currency_rate_GBP_1_day_before',\n",
       "       'currency_rate_CNY_1_day_before', 'currency_rate_JPY_1_day_before',\n",
       "       'currency_rate_KRW_1_day_before', 'currency_rate_USD_2_day_before',\n",
       "       'currency_rate_GBP_2_day_before', 'currency_rate_CNY_2_day_before',\n",
       "       'currency_rate_JPY_2_day_before', 'currency_rate_KRW_2_day_before',\n",
       "       'currency_rate_USD_3_day_before', 'currency_rate_GBP_3_day_before',\n",
       "       'currency_rate_CNY_3_day_before', 'currency_rate_JPY_3_day_before',\n",
       "       'currency_rate_KRW_3_day_before', 'currency_rate_USD_4_day_before',\n",
       "       'currency_rate_GBP_4_day_before', 'currency_rate_CNY_4_day_before',\n",
       "       'currency_rate_JPY_4_day_before', 'currency_rate_KRW_4_day_before',\n",
       "       'currency_rate_USD_5_day_before', 'currency_rate_GBP_5_day_before',\n",
       "       'currency_rate_CNY_5_day_before', 'currency_rate_JPY_5_day_before',\n",
       "       'currency_rate_KRW_5_day_before', 'currency_rate_USD_6_day_before',\n",
       "       'currency_rate_GBP_6_day_before', 'currency_rate_CNY_6_day_before',\n",
       "       'currency_rate_JPY_6_day_before', 'currency_rate_KRW_6_day_before',\n",
       "       'currency_rate_USD_7_day_before', 'currency_rate_GBP_7_day_before',\n",
       "       'currency_rate_CNY_7_day_before', 'currency_rate_JPY_7_day_before',\n",
       "       'currency_rate_KRW_7_day_before', 'TotalBuzzPost', 'TotalBuzz',\n",
       "       'NetSentiment', 'PositiveSentiment', 'NegativeSentiment', 'Impressions',\n",
       "       'TotalBuzzPost_1_day_before', 'TotalBuzz_1_day_before',\n",
       "       'NetSentiment_1_day_before', 'PositiveSentiment_1_day_before',\n",
       "       'NegativeSentiment_1_day_before', 'Impressions_1_day_before',\n",
       "       'TotalBuzzPost_2_day_before', 'TotalBuzz_2_day_before',\n",
       "       'NetSentiment_2_day_before', 'PositiveSentiment_2_day_before',\n",
       "       'NegativeSentiment_2_day_before', 'Impressions_2_day_before',\n",
       "       'TotalBuzzPost_3_day_before', 'TotalBuzz_3_day_before',\n",
       "       'NetSentiment_3_day_before', 'PositiveSentiment_3_day_before',\n",
       "       'NegativeSentiment_3_day_before', 'Impressions_3_day_before',\n",
       "       'TotalBuzzPost_4_day_before', 'TotalBuzz_4_day_before',\n",
       "       'NetSentiment_4_day_before', 'PositiveSentiment_4_day_before',\n",
       "       'NegativeSentiment_4_day_before', 'Impressions_4_day_before',\n",
       "       'TotalBuzzPost_5_day_before', 'TotalBuzz_5_day_before',\n",
       "       'NetSentiment_5_day_before', 'PositiveSentiment_5_day_before',\n",
       "       'NegativeSentiment_5_day_before', 'Impressions_5_day_before',\n",
       "       'TotalBuzzPost_6_day_before', 'TotalBuzz_6_day_before',\n",
       "       'NetSentiment_6_day_before', 'PositiveSentiment_6_day_before',\n",
       "       'NegativeSentiment_6_day_before', 'Impressions_6_day_before',\n",
       "       'TotalBuzzPost_7_day_before', 'TotalBuzz_7_day_before',\n",
       "       'NetSentiment_7_day_before', 'PositiveSentiment_7_day_before',\n",
       "       'NegativeSentiment_7_day_before', 'Impressions_7_day_before'],\n",
       "      dtype='object')"
      ]
     },
     "execution_count": 6,
     "metadata": {},
     "output_type": "execute_result"
    }
   ],
   "source": [
    "df_sales.columns"
   ]
  },
  {
   "cell_type": "code",
   "execution_count": 7,
   "metadata": {},
   "outputs": [],
   "source": [
    "df_sum = df_sales.groupby(['sku_hash']).sum().reset_index()\n",
    "df_mean = df_sales.groupby([ 'sku_hash']).mean().reset_index()\n",
    "df_count = df_sales.groupby([ 'sku_hash']).agg('count').reset_index()\n",
    "df_max = df_sales.groupby([ 'sku_hash']).agg('max').reset_index()\n",
    "df_min = df_sales.groupby([ 'sku_hash']).agg('min').reset_index()\n",
    "df_std = df_sales.groupby([ 'sku_hash']).std().reset_index()"
   ]
  },
  {
   "cell_type": "code",
   "execution_count": 8,
   "metadata": {},
   "outputs": [],
   "source": [
    "df_new = df_all.copy()"
   ]
  },
  {
   "cell_type": "code",
   "execution_count": 9,
   "metadata": {},
   "outputs": [],
   "source": [
    "dfs = [df_sum, df_mean, df_count, df_max, df_min, df_std]\n",
    "names = ['sum', 'mean', 'count', 'max', 'min', 'std']\n",
    "for i in range(len(dfs)):\n",
    "    tmp_df = dfs[i]\n",
    "    tmp_df.rename(columns={'Month_transaction':\"month\"}, inplace=True)\n",
    "    df_new = df_new.merge(tmp_df, on=['sku_hash'], how='left',  suffixes=[\"\", names[i]] )"
   ]
  },
  {
   "cell_type": "code",
   "execution_count": 10,
   "metadata": {},
   "outputs": [],
   "source": [
    "for tmp_df in dfs:\n",
    "    del(tmp_df)"
   ]
  },
  {
   "cell_type": "code",
   "execution_count": 11,
   "metadata": {},
   "outputs": [],
   "source": [
    "df_all = df_new.copy()"
   ]
  },
  {
   "cell_type": "code",
   "execution_count": 12,
   "metadata": {},
   "outputs": [],
   "source": [
    "df_baseline = pd.read_csv('../data/baselined_dataset.csv')[['sales_quantity_log', 'ID']]"
   ]
  },
  {
   "cell_type": "code",
   "execution_count": 13,
   "metadata": {},
   "outputs": [
    {
     "name": "stdout",
     "output_type": "stream",
     "text": [
      "(10464, 2)\n"
     ]
    }
   ],
   "source": [
    "print(df_baseline.shape)"
   ]
  },
  {
   "cell_type": "code",
   "execution_count": 14,
   "metadata": {},
   "outputs": [],
   "source": [
    "new_features = set(df_baseline.columns.tolist()) - set(df_all.columns.tolist())\n",
    "new_features = list(new_features) + ['ID']"
   ]
  },
  {
   "cell_type": "code",
   "execution_count": 15,
   "metadata": {},
   "outputs": [],
   "source": [
    "df_all = df_all.merge(df_baseline[new_features], on='ID', how='left')"
   ]
  },
  {
   "cell_type": "markdown",
   "metadata": {},
   "source": [
    "## TF-IDF "
   ]
  },
  {
   "cell_type": "code",
   "execution_count": 16,
   "metadata": {},
   "outputs": [],
   "source": [
    "import re\n",
    "import nltk\n",
    "from nltk.corpus import stopwords\n",
    "from nltk.stem.porter import PorterStemmer\n",
    "from sklearn.feature_extraction.text import CountVectorizer\n",
    "from sklearn.feature_extraction.text import TfidfVectorizer\n",
    "from sklearn.decomposition import TruncatedSVD"
   ]
  },
  {
   "cell_type": "code",
   "execution_count": 17,
   "metadata": {},
   "outputs": [],
   "source": [
    "def parser(data):\n",
    "    corpus = []\n",
    "    for i in range(0, len(data)):\n",
    "        review = re.sub('[^a-zA-Z]', ' ', data['en_US_description'][i])\n",
    "        review = review.lower()\n",
    "        review = review.split()\n",
    "        ps = PorterStemmer()\n",
    "        review = [ps.stem(word) for word in review if not word in set(stopwords.words('english'))]\n",
    "        review = ' '.join(review)\n",
    "        corpus.append(review)\n",
    "    return corpus"
   ]
  },
  {
   "cell_type": "code",
   "execution_count": 18,
   "metadata": {},
   "outputs": [],
   "source": [
    "vectorizer = TfidfVectorizer(min_df=3,  max_features=10000,\n",
    "        strip_accents='unicode', analyzer='word', token_pattern=r'\\w{1,}',\n",
    "        ngram_range=(1, 3), use_idf=1, smooth_idf=1, sublinear_tf=1,\n",
    "        stop_words = 'english')"
   ]
  },
  {
   "cell_type": "code",
   "execution_count": 19,
   "metadata": {},
   "outputs": [],
   "source": [
    "vec_tfidf = vectorizer.fit_transform(parser(df_all)).toarray()"
   ]
  },
  {
   "cell_type": "code",
   "execution_count": 20,
   "metadata": {},
   "outputs": [
    {
     "data": {
      "text/plain": [
       "TruncatedSVD(algorithm='randomized', n_components=120, n_iter=5,\n",
       "       random_state=None, tol=0.0)"
      ]
     },
     "execution_count": 20,
     "metadata": {},
     "output_type": "execute_result"
    }
   ],
   "source": [
    "SVD_FEATURES = 120\n",
    "svd = TruncatedSVD(n_components=SVD_FEATURES)\n",
    "svd.fit(vec_tfidf)"
   ]
  },
  {
   "cell_type": "code",
   "execution_count": 21,
   "metadata": {},
   "outputs": [],
   "source": [
    "vec_tfidf = svd.transform(vec_tfidf)\n",
    "vec_tfidf = pd.DataFrame(vec_tfidf , columns=['svd_{}'.format(i) for i in range(SVD_FEATURES)])"
   ]
  },
  {
   "cell_type": "code",
   "execution_count": 22,
   "metadata": {},
   "outputs": [],
   "source": [
    "df_all = pd.concat((df_all, vec_tfidf), axis=1)"
   ]
  },
  {
   "cell_type": "code",
   "execution_count": 23,
   "metadata": {},
   "outputs": [
    {
     "data": {
      "text/plain": [
       "(10464, 700)"
      ]
     },
     "execution_count": 23,
     "metadata": {},
     "output_type": "execute_result"
    }
   ],
   "source": [
    "df_all.shape"
   ]
  },
  {
   "cell_type": "markdown",
   "metadata": {},
   "source": [
    "## Navidation data"
   ]
  },
  {
   "cell_type": "code",
   "execution_count": 24,
   "metadata": {},
   "outputs": [],
   "source": [
    "df_navi = pd.read_csv('../data/raw/navigation.csv.zip')"
   ]
  },
  {
   "cell_type": "code",
   "execution_count": 25,
   "metadata": {},
   "outputs": [],
   "source": [
    "df_navi = df_navi.groupby('sku_hash').agg({\"page_views\":\"sum\", \"addtocart\":'sum'}).reset_index()\n",
    "df_navi['page_views'] = df_navi['page_views'].apply(np.log1p)\n",
    "df_navi['conversion_rate'] = df_navi['addtocart'] / df_navi['page_views']\n",
    "df_all = df_all.merge(df_navi, on='sku_hash', how='left')"
   ]
  },
  {
   "cell_type": "markdown",
   "metadata": {},
   "source": [
    "## LighGBM"
   ]
  },
  {
   "cell_type": "code",
   "execution_count": 26,
   "metadata": {},
   "outputs": [],
   "source": [
    "import lightgbm as lgb\n",
    "from sklearn.model_selection import train_test_split"
   ]
  },
  {
   "cell_type": "code",
   "execution_count": 27,
   "metadata": {},
   "outputs": [
    {
     "data": {
      "text/plain": [
       "['aesthetic_sub_line',\n",
       " 'color',\n",
       " 'function',\n",
       " 'macro_function',\n",
       " 'macro_material',\n",
       " 'model',\n",
       " 'month',\n",
       " 'product_gender',\n",
       " 'product_type',\n",
       " 'sub_function',\n",
       " 'monthsum',\n",
       " 'zone_number',\n",
       " 'country_number',\n",
       " 'sales_quantity',\n",
       " 'Date',\n",
       " 'day_transaction_date',\n",
       " 'monthcount',\n",
       " 'type',\n",
       " 'zone_numbercount',\n",
       " 'country_numbercount',\n",
       " 'name',\n",
       " 'sales_quantitycount',\n",
       " 'currency_rate_USDcount',\n",
       " 'currency_rate_GBPcount',\n",
       " 'currency_rate_CNYcount',\n",
       " 'currency_rate_JPYcount',\n",
       " 'currency_rate_KRWcount',\n",
       " 'currency_rate_USD_1_day_beforecount',\n",
       " 'currency_rate_GBP_1_day_beforecount',\n",
       " 'currency_rate_CNY_1_day_beforecount',\n",
       " 'currency_rate_JPY_1_day_beforecount',\n",
       " 'currency_rate_KRW_1_day_beforecount',\n",
       " 'currency_rate_USD_2_day_beforecount',\n",
       " 'currency_rate_GBP_2_day_beforecount',\n",
       " 'currency_rate_CNY_2_day_beforecount',\n",
       " 'currency_rate_JPY_2_day_beforecount',\n",
       " 'currency_rate_KRW_2_day_beforecount',\n",
       " 'currency_rate_USD_3_day_beforecount',\n",
       " 'currency_rate_GBP_3_day_beforecount',\n",
       " 'currency_rate_CNY_3_day_beforecount',\n",
       " 'currency_rate_JPY_3_day_beforecount',\n",
       " 'currency_rate_KRW_3_day_beforecount',\n",
       " 'currency_rate_USD_4_day_beforecount',\n",
       " 'currency_rate_GBP_4_day_beforecount',\n",
       " 'currency_rate_CNY_4_day_beforecount',\n",
       " 'currency_rate_JPY_4_day_beforecount',\n",
       " 'currency_rate_KRW_4_day_beforecount',\n",
       " 'currency_rate_USD_5_day_beforecount',\n",
       " 'currency_rate_GBP_5_day_beforecount',\n",
       " 'currency_rate_CNY_5_day_beforecount',\n",
       " 'currency_rate_JPY_5_day_beforecount',\n",
       " 'currency_rate_KRW_5_day_beforecount',\n",
       " 'currency_rate_USD_6_day_beforecount',\n",
       " 'currency_rate_GBP_6_day_beforecount',\n",
       " 'currency_rate_CNY_6_day_beforecount',\n",
       " 'currency_rate_JPY_6_day_beforecount',\n",
       " 'currency_rate_KRW_6_day_beforecount',\n",
       " 'currency_rate_USD_7_day_beforecount',\n",
       " 'currency_rate_GBP_7_day_beforecount',\n",
       " 'currency_rate_CNY_7_day_beforecount',\n",
       " 'currency_rate_JPY_7_day_beforecount',\n",
       " 'currency_rate_KRW_7_day_beforecount',\n",
       " 'TotalBuzzPostcount',\n",
       " 'TotalBuzzcount',\n",
       " 'NetSentimentcount',\n",
       " 'PositiveSentimentcount',\n",
       " 'NegativeSentimentcount',\n",
       " 'Impressionscount',\n",
       " 'TotalBuzzPost_1_day_beforecount',\n",
       " 'TotalBuzz_1_day_beforecount',\n",
       " 'NetSentiment_1_day_beforecount',\n",
       " 'PositiveSentiment_1_day_beforecount',\n",
       " 'NegativeSentiment_1_day_beforecount',\n",
       " 'Impressions_1_day_beforecount',\n",
       " 'TotalBuzzPost_2_day_beforecount',\n",
       " 'TotalBuzz_2_day_beforecount',\n",
       " 'NetSentiment_2_day_beforecount',\n",
       " 'PositiveSentiment_2_day_beforecount',\n",
       " 'NegativeSentiment_2_day_beforecount',\n",
       " 'Impressions_2_day_beforecount',\n",
       " 'TotalBuzzPost_3_day_beforecount',\n",
       " 'TotalBuzz_3_day_beforecount',\n",
       " 'NetSentiment_3_day_beforecount',\n",
       " 'PositiveSentiment_3_day_beforecount',\n",
       " 'NegativeSentiment_3_day_beforecount',\n",
       " 'Impressions_3_day_beforecount',\n",
       " 'TotalBuzzPost_4_day_beforecount',\n",
       " 'TotalBuzz_4_day_beforecount',\n",
       " 'NetSentiment_4_day_beforecount',\n",
       " 'PositiveSentiment_4_day_beforecount',\n",
       " 'NegativeSentiment_4_day_beforecount',\n",
       " 'Impressions_4_day_beforecount',\n",
       " 'TotalBuzzPost_5_day_beforecount',\n",
       " 'TotalBuzz_5_day_beforecount',\n",
       " 'NetSentiment_5_day_beforecount',\n",
       " 'PositiveSentiment_5_day_beforecount',\n",
       " 'NegativeSentiment_5_day_beforecount',\n",
       " 'Impressions_5_day_beforecount',\n",
       " 'TotalBuzzPost_6_day_beforecount',\n",
       " 'TotalBuzz_6_day_beforecount',\n",
       " 'NetSentiment_6_day_beforecount',\n",
       " 'PositiveSentiment_6_day_beforecount',\n",
       " 'NegativeSentiment_6_day_beforecount',\n",
       " 'Impressions_6_day_beforecount',\n",
       " 'TotalBuzzPost_7_day_beforecount',\n",
       " 'TotalBuzz_7_day_beforecount',\n",
       " 'NetSentiment_7_day_beforecount',\n",
       " 'PositiveSentiment_7_day_beforecount',\n",
       " 'NegativeSentiment_7_day_beforecount',\n",
       " 'Impressions_7_day_beforecount',\n",
       " 'Datemax',\n",
       " 'day_transaction_datemax',\n",
       " 'monthmax',\n",
       " 'typemax',\n",
       " 'zone_numbermax',\n",
       " 'country_numbermax',\n",
       " 'namemax',\n",
       " 'sales_quantitymax',\n",
       " 'Datemin',\n",
       " 'day_transaction_datemin',\n",
       " 'monthmin',\n",
       " 'typemin',\n",
       " 'zone_numbermin',\n",
       " 'country_numbermin',\n",
       " 'namemin',\n",
       " 'sales_quantitymin',\n",
       " 'addtocart']"
      ]
     },
     "execution_count": 27,
     "metadata": {},
     "output_type": "execute_result"
    }
   ],
   "source": [
    "cat_features = df_all.columns[df_all.dtypes.apply(lambda x: x!=float)].tolist()\n",
    "cat_features.remove('ID')\n",
    "cat_features.remove('en_US_description')\n",
    "cat_features.remove('sku_hash')\n",
    "\n",
    "cat_features"
   ]
  },
  {
   "cell_type": "code",
   "execution_count": 28,
   "metadata": {},
   "outputs": [],
   "source": [
    "numeric_features = df_all.columns[df_all.dtypes.apply(lambda x: x==float)].tolist()"
   ]
  },
  {
   "cell_type": "code",
   "execution_count": 29,
   "metadata": {},
   "outputs": [],
   "source": [
    "target = 'target'"
   ]
  },
  {
   "cell_type": "code",
   "execution_count": 30,
   "metadata": {},
   "outputs": [],
   "source": [
    "numeric_features.remove(target)"
   ]
  },
  {
   "cell_type": "code",
   "execution_count": 31,
   "metadata": {},
   "outputs": [],
   "source": [
    "features = cat_features + numeric_features"
   ]
  },
  {
   "cell_type": "markdown",
   "metadata": {},
   "source": [
    "## transrform target"
   ]
  },
  {
   "cell_type": "code",
   "execution_count": 32,
   "metadata": {},
   "outputs": [],
   "source": [
    "df_all[target] = df_all[target].apply(np.log)"
   ]
  },
  {
   "cell_type": "markdown",
   "metadata": {},
   "source": [
    "## Transform features "
   ]
  },
  {
   "cell_type": "code",
   "execution_count": 33,
   "metadata": {},
   "outputs": [],
   "source": [
    "for cat_feature in cat_features:\n",
    "    df_all[cat_feature] = df_all[cat_feature].astype('category')"
   ]
  },
  {
   "cell_type": "code",
   "execution_count": 34,
   "metadata": {},
   "outputs": [],
   "source": [
    "df_train = df_all[df_all[target].notnull()]\n",
    "df_test = df_all[df_all[target].isnull()]\n",
    "\n",
    "X_train, X_test,  y_train, y_test = train_test_split(df_train[features], df_train[target], test_size=0.1)"
   ]
  },
  {
   "cell_type": "code",
   "execution_count": 35,
   "metadata": {},
   "outputs": [
    {
     "data": {
      "text/plain": [
       "(4768, 699)"
      ]
     },
     "execution_count": 35,
     "metadata": {},
     "output_type": "execute_result"
    }
   ],
   "source": [
    "X_train.shape"
   ]
  },
  {
   "cell_type": "code",
   "execution_count": 36,
   "metadata": {},
   "outputs": [],
   "source": [
    "gbm = lgb.LGBMRegressor(colsample_bytree=0.6,\n",
    "       importance_type='split', learning_rate=0.01, max_depth=-1,\n",
    "       min_child_samples=36, min_child_weight=0.1, min_split_gain=0.0,\n",
    "       n_estimators=4022, n_jobs=-1, num_leaves=800, objective='rmse',\n",
    "       random_state=None, reg_alpha=0.0, reg_lambda=0.0, silent=False,\n",
    "       subsample=0.9, subsample_for_bin=200000, subsample_freq=2)\n"
   ]
  },
  {
   "cell_type": "code",
   "execution_count": 37,
   "metadata": {
    "scrolled": true
   },
   "outputs": [
    {
     "name": "stdout",
     "output_type": "stream",
     "text": [
      "Training until validation scores don't improve for 100 rounds.\n",
      "[100]\tvalid_0's rmse: 0.577535\tvalid_1's rmse: 0.604606\n",
      "[200]\tvalid_0's rmse: 0.393171\tvalid_1's rmse: 0.421895\n",
      "[300]\tvalid_0's rmse: 0.303152\tvalid_1's rmse: 0.329431\n",
      "[400]\tvalid_0's rmse: 0.249227\tvalid_1's rmse: 0.273117\n",
      "[500]\tvalid_0's rmse: 0.214305\tvalid_1's rmse: 0.236307\n",
      "[600]\tvalid_0's rmse: 0.189544\tvalid_1's rmse: 0.209616\n",
      "[700]\tvalid_0's rmse: 0.173483\tvalid_1's rmse: 0.191878\n",
      "[800]\tvalid_0's rmse: 0.161004\tvalid_1's rmse: 0.178131\n",
      "[900]\tvalid_0's rmse: 0.149601\tvalid_1's rmse: 0.165854\n",
      "[1000]\tvalid_0's rmse: 0.139838\tvalid_1's rmse: 0.155186\n",
      "[1100]\tvalid_0's rmse: 0.132291\tvalid_1's rmse: 0.147197\n",
      "[1200]\tvalid_0's rmse: 0.126097\tvalid_1's rmse: 0.140327\n",
      "[1300]\tvalid_0's rmse: 0.119241\tvalid_1's rmse: 0.132869\n",
      "[1400]\tvalid_0's rmse: 0.112826\tvalid_1's rmse: 0.125914\n",
      "[1500]\tvalid_0's rmse: 0.106912\tvalid_1's rmse: 0.119754\n",
      "[1600]\tvalid_0's rmse: 0.102601\tvalid_1's rmse: 0.114977\n",
      "[1700]\tvalid_0's rmse: 0.0980524\tvalid_1's rmse: 0.109787\n",
      "[1800]\tvalid_0's rmse: 0.0937854\tvalid_1's rmse: 0.1052\n",
      "[1900]\tvalid_0's rmse: 0.0893813\tvalid_1's rmse: 0.100362\n",
      "[2000]\tvalid_0's rmse: 0.0860108\tvalid_1's rmse: 0.0965908\n",
      "[2100]\tvalid_0's rmse: 0.0822979\tvalid_1's rmse: 0.0924304\n",
      "[2200]\tvalid_0's rmse: 0.0790453\tvalid_1's rmse: 0.0885185\n",
      "[2300]\tvalid_0's rmse: 0.0759011\tvalid_1's rmse: 0.0850188\n",
      "[2400]\tvalid_0's rmse: 0.0728233\tvalid_1's rmse: 0.0814075\n",
      "[2500]\tvalid_0's rmse: 0.0703819\tvalid_1's rmse: 0.0785651\n",
      "[2600]\tvalid_0's rmse: 0.067897\tvalid_1's rmse: 0.075785\n",
      "[2700]\tvalid_0's rmse: 0.0655274\tvalid_1's rmse: 0.0731374\n",
      "[2800]\tvalid_0's rmse: 0.0632996\tvalid_1's rmse: 0.0704838\n",
      "[2900]\tvalid_0's rmse: 0.0611405\tvalid_1's rmse: 0.0681304\n",
      "[3000]\tvalid_0's rmse: 0.0590445\tvalid_1's rmse: 0.0658273\n",
      "[3100]\tvalid_0's rmse: 0.0570106\tvalid_1's rmse: 0.0635614\n",
      "[3200]\tvalid_0's rmse: 0.0551982\tvalid_1's rmse: 0.061594\n",
      "[3300]\tvalid_0's rmse: 0.0534992\tvalid_1's rmse: 0.0597091\n",
      "[3400]\tvalid_0's rmse: 0.0519065\tvalid_1's rmse: 0.0579094\n",
      "[3500]\tvalid_0's rmse: 0.0503928\tvalid_1's rmse: 0.0560471\n",
      "[3600]\tvalid_0's rmse: 0.0489313\tvalid_1's rmse: 0.0545677\n",
      "[3700]\tvalid_0's rmse: 0.0475075\tvalid_1's rmse: 0.0529662\n",
      "[3800]\tvalid_0's rmse: 0.0462594\tvalid_1's rmse: 0.051461\n",
      "[3900]\tvalid_0's rmse: 0.0448986\tvalid_1's rmse: 0.0499721\n",
      "[4000]\tvalid_0's rmse: 0.0438864\tvalid_1's rmse: 0.048933\n",
      "Did not meet early stopping. Best iteration is:\n",
      "[4022]\tvalid_0's rmse: 0.043668\tvalid_1's rmse: 0.048596\n"
     ]
    },
    {
     "data": {
      "text/plain": [
       "LGBMRegressor(boosting_type='gbdt', class_weight=None, colsample_bytree=0.6,\n",
       "       importance_type='split', learning_rate=0.01, max_depth=-1,\n",
       "       min_child_samples=36, min_child_weight=0.1, min_split_gain=0.0,\n",
       "       n_estimators=4022, n_jobs=-1, num_leaves=800, objective='rmse',\n",
       "       random_state=None, reg_alpha=0.0, reg_lambda=0.0, silent=False,\n",
       "       subsample=0.9, subsample_for_bin=200000, subsample_freq=2)"
      ]
     },
     "execution_count": 37,
     "metadata": {},
     "output_type": "execute_result"
    }
   ],
   "source": [
    "gbm.fit(df_train[features],df_train[target],\n",
    "        eval_set=[(X_train, y_train) ,(X_test, y_test)],\n",
    "        eval_metric='rmse',\n",
    "        early_stopping_rounds=100, verbose=100)"
   ]
  },
  {
   "cell_type": "code",
   "execution_count": 38,
   "metadata": {},
   "outputs": [],
   "source": [
    "#df_all.to_csv('../data/second_df.csv', index=None)"
   ]
  },
  {
   "cell_type": "code",
   "execution_count": 39,
   "metadata": {},
   "outputs": [],
   "source": [
    "preds = gbm.predict(df_test[features], num_iteration=gbm.best_iteration_)"
   ]
  },
  {
   "cell_type": "code",
   "execution_count": 40,
   "metadata": {},
   "outputs": [],
   "source": [
    "df_explore = df_train[['target']]\n",
    "df_explore['pred'] = gbm.predict(df_train[features])\n",
    "df_explore['pred'] = df_explore['pred'].apply(np.exp)\n",
    "df_explore['target'] = df_explore['target'].apply(np.exp)"
   ]
  },
  {
   "cell_type": "code",
   "execution_count": 41,
   "metadata": {},
   "outputs": [
    {
     "data": {
      "text/html": [
       "<div>\n",
       "<style scoped>\n",
       "    .dataframe tbody tr th:only-of-type {\n",
       "        vertical-align: middle;\n",
       "    }\n",
       "\n",
       "    .dataframe tbody tr th {\n",
       "        vertical-align: top;\n",
       "    }\n",
       "\n",
       "    .dataframe thead th {\n",
       "        text-align: right;\n",
       "    }\n",
       "</style>\n",
       "<table border=\"1\" class=\"dataframe\">\n",
       "  <thead>\n",
       "    <tr style=\"text-align: right;\">\n",
       "      <th></th>\n",
       "      <th>target</th>\n",
       "      <th>pred</th>\n",
       "    </tr>\n",
       "  </thead>\n",
       "  <tbody>\n",
       "    <tr>\n",
       "      <th>2076</th>\n",
       "      <td>110.0</td>\n",
       "      <td>111.033245</td>\n",
       "    </tr>\n",
       "    <tr>\n",
       "      <th>1831</th>\n",
       "      <td>909.0</td>\n",
       "      <td>928.141548</td>\n",
       "    </tr>\n",
       "    <tr>\n",
       "      <th>1029</th>\n",
       "      <td>83.0</td>\n",
       "      <td>84.424859</td>\n",
       "    </tr>\n",
       "    <tr>\n",
       "      <th>1659</th>\n",
       "      <td>54.0</td>\n",
       "      <td>53.710730</td>\n",
       "    </tr>\n",
       "    <tr>\n",
       "      <th>1360</th>\n",
       "      <td>66.0</td>\n",
       "      <td>66.384496</td>\n",
       "    </tr>\n",
       "  </tbody>\n",
       "</table>\n",
       "</div>"
      ],
      "text/plain": [
       "      target        pred\n",
       "2076   110.0  111.033245\n",
       "1831   909.0  928.141548\n",
       "1029    83.0   84.424859\n",
       "1659    54.0   53.710730\n",
       "1360    66.0   66.384496"
      ]
     },
     "execution_count": 41,
     "metadata": {},
     "output_type": "execute_result"
    }
   ],
   "source": [
    "df_explore.sample(5)"
   ]
  },
  {
   "cell_type": "code",
   "execution_count": 42,
   "metadata": {},
   "outputs": [],
   "source": [
    "df_sub = pd.DataFrame()\n",
    "df_sub['ID'] = df_test['ID']\n",
    "df_sub['target'] = preds"
   ]
  },
  {
   "cell_type": "code",
   "execution_count": 43,
   "metadata": {},
   "outputs": [],
   "source": [
    "df_sub['target']= df_sub['target'].apply(np.exp)"
   ]
  },
  {
   "cell_type": "code",
   "execution_count": 44,
   "metadata": {},
   "outputs": [],
   "source": [
    "df_sub.to_csv('../data/clean_submission.csv', index=False)"
   ]
  },
  {
   "cell_type": "markdown",
   "metadata": {},
   "source": [
    "## Check correlation to other submissions "
   ]
  },
  {
   "cell_type": "code",
   "execution_count": 45,
   "metadata": {},
   "outputs": [],
   "source": [
    "df_prev_sub = pd.read_csv('../data/sub_only_sales.csv')\n",
    "df_sub = df_sub.merge(df_prev_sub, on='ID', suffixes=[\"\", \"_only_sales\"])"
   ]
  },
  {
   "cell_type": "code",
   "execution_count": 46,
   "metadata": {},
   "outputs": [],
   "source": [
    "#df_sub_tf = pd.read_csv('../data/sub_tfidf_gad.csv')"
   ]
  },
  {
   "cell_type": "code",
   "execution_count": 47,
   "metadata": {},
   "outputs": [],
   "source": [
    "df_sub_mean = pd.read_csv('../data/sub_3_without_log_sales.csv')\n",
    "df_sub = df_sub.merge(df_sub_mean, on='ID', suffixes=[\"\", \"_no_sales|\"])"
   ]
  },
  {
   "cell_type": "code",
   "execution_count": 48,
   "metadata": {},
   "outputs": [
    {
     "data": {
      "text/html": [
       "<div>\n",
       "<style scoped>\n",
       "    .dataframe tbody tr th:only-of-type {\n",
       "        vertical-align: middle;\n",
       "    }\n",
       "\n",
       "    .dataframe tbody tr th {\n",
       "        vertical-align: top;\n",
       "    }\n",
       "\n",
       "    .dataframe thead th {\n",
       "        text-align: right;\n",
       "    }\n",
       "</style>\n",
       "<table border=\"1\" class=\"dataframe\">\n",
       "  <thead>\n",
       "    <tr style=\"text-align: right;\">\n",
       "      <th></th>\n",
       "      <th>target</th>\n",
       "      <th>target_only_sales</th>\n",
       "      <th>target_no_sales|</th>\n",
       "    </tr>\n",
       "  </thead>\n",
       "  <tbody>\n",
       "    <tr>\n",
       "      <th>target</th>\n",
       "      <td>1.000000</td>\n",
       "      <td>0.899217</td>\n",
       "      <td>0.868403</td>\n",
       "    </tr>\n",
       "    <tr>\n",
       "      <th>target_only_sales</th>\n",
       "      <td>0.899217</td>\n",
       "      <td>1.000000</td>\n",
       "      <td>0.908228</td>\n",
       "    </tr>\n",
       "    <tr>\n",
       "      <th>target_no_sales|</th>\n",
       "      <td>0.868403</td>\n",
       "      <td>0.908228</td>\n",
       "      <td>1.000000</td>\n",
       "    </tr>\n",
       "  </tbody>\n",
       "</table>\n",
       "</div>"
      ],
      "text/plain": [
       "                     target  target_only_sales  target_no_sales|\n",
       "target             1.000000           0.899217          0.868403\n",
       "target_only_sales  0.899217           1.000000          0.908228\n",
       "target_no_sales|   0.868403           0.908228          1.000000"
      ]
     },
     "execution_count": 48,
     "metadata": {},
     "output_type": "execute_result"
    }
   ],
   "source": [
    "df_sub.corr()"
   ]
  },
  {
   "cell_type": "code",
   "execution_count": 49,
   "metadata": {},
   "outputs": [],
   "source": [
    "df_sub['target'] = df_sub['target']*0.3 +  df_sub['target_only_sales']*0.7"
   ]
  },
  {
   "cell_type": "code",
   "execution_count": 50,
   "metadata": {},
   "outputs": [],
   "source": [
    "df_sub[['ID', 'target']].to_csv('../data/df_sub.csv', index=False)"
   ]
  }
 ],
 "metadata": {
  "kernelspec": {
   "display_name": "Python 3",
   "language": "python",
   "name": "python3"
  },
  "language_info": {
   "codemirror_mode": {
    "name": "ipython",
    "version": 3
   },
   "file_extension": ".py",
   "mimetype": "text/x-python",
   "name": "python",
   "nbconvert_exporter": "python",
   "pygments_lexer": "ipython3",
   "version": "3.6.8"
  }
 },
 "nbformat": 4,
 "nbformat_minor": 2
}
